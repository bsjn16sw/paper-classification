{
  "nbformat": 4,
  "nbformat_minor": 0,
  "metadata": {
    "colab": {
      "name": "classifier_github.ipynb",
      "provenance": [],
      "collapsed_sections": [],
      "machine_shape": "hm"
    },
    "kernelspec": {
      "name": "python3",
      "display_name": "Python 3"
    },
    "accelerator": "GPU"
  },
  "cells": [
    {
      "cell_type": "code",
      "metadata": {
        "id": "zQSGNKaDgJe5",
        "colab_type": "code",
        "outputId": "183156f2-177b-4f77-e3c5-fca34670e33c",
        "colab": {
          "base_uri": "https://localhost:8080/",
          "height": 168
        }
      },
      "source": [
        "from google.colab import drive\n",
        "import sys\n",
        "drive.mount('/gdrive', force_remount=True)\n",
        "sys.path.append('/gdrive/My Drive/paper-classification')\n",
        "from srcs.preprocessor import preprocess, preprocess_lemma, preprocess_pstem, preprocess_lstem\n",
        "import os\n",
        "import pandas as pd\n",
        "import numpy as np\n",
        "%matplotlib inline\n",
        "import matplotlib.pyplot as plt\n",
        "import seaborn as sns"
      ],
      "execution_count": 1,
      "outputs": [
        {
          "output_type": "stream",
          "text": [
            "Go to this URL in a browser: https://accounts.google.com/o/oauth2/auth?client_id=947318989803-6bn6qk8qdgf4n4g3pfee6491hc0brc4i.apps.googleusercontent.com&redirect_uri=urn%3aietf%3awg%3aoauth%3a2.0%3aoob&response_type=code&scope=email%20https%3a%2f%2fwww.googleapis.com%2fauth%2fdocs.test%20https%3a%2f%2fwww.googleapis.com%2fauth%2fdrive%20https%3a%2f%2fwww.googleapis.com%2fauth%2fdrive.photos.readonly%20https%3a%2f%2fwww.googleapis.com%2fauth%2fpeopleapi.readonly\n",
            "\n",
            "Enter your authorization code:\n",
            "··········\n",
            "Mounted at /gdrive\n"
          ],
          "name": "stdout"
        },
        {
          "output_type": "stream",
          "text": [
            "/usr/local/lib/python3.6/dist-packages/statsmodels/tools/_testing.py:19: FutureWarning: pandas.util.testing is deprecated. Use the functions in the public API at pandas.testing instead.\n",
            "  import pandas.util.testing as tm\n"
          ],
          "name": "stderr"
        }
      ]
    },
    {
      "cell_type": "markdown",
      "metadata": {
        "id": "OUe09BVLHN-g",
        "colab_type": "text"
      },
      "source": [
        "##Preprocess"
      ]
    },
    {
      "cell_type": "code",
      "metadata": {
        "id": "6gQdDPd0HFxK",
        "colab_type": "code",
        "outputId": "612b2bb2-519b-4b81-c417-652c9ac0021a",
        "colab": {
          "base_uri": "https://localhost:8080/",
          "height": 129
        }
      },
      "source": [
        "cwd = sys.path[-1]\n",
        "field = 'cs'\n",
        "data = pd.read_csv(os.path.join(cwd, f'data/arxiv/{field}/data.csv'), encoding='latin1')\n",
        "texts = preprocess(data['title'], data['abstract'])\n",
        "labels = data['subject']\n",
        "print(len(texts), len(labels))\n",
        "num_labels = len(set(labels))\n",
        "print(num_labels)"
      ],
      "execution_count": 3,
      "outputs": [
        {
          "output_type": "stream",
          "text": [
            "[nltk_data] Downloading package punkt to /root/nltk_data...\n",
            "[nltk_data]   Package punkt is already up-to-date!\n",
            "[nltk_data] Downloading package stopwords to /root/nltk_data...\n",
            "[nltk_data]   Package stopwords is already up-to-date!\n",
            "27557 27557\n",
            "38\n"
          ],
          "name": "stdout"
        }
      ]
    },
    {
      "cell_type": "code",
      "metadata": {
        "id": "e02UD281HP8o",
        "colab_type": "code",
        "outputId": "c98065de-b040-4735-a68d-6bdebdc982e4",
        "colab": {
          "base_uri": "https://localhost:8080/",
          "height": 316
        }
      },
      "source": [
        "# 텍스트 길이에 대한 그래프\n",
        "plt.hist([len(t) for t in texts], bins=100)\n",
        "plt.xlabel('# of words in preprocessed texts')\n",
        "plt.ylabel('# of papers')\n",
        "plt.show()\n",
        "print(f'Max # of words: {max(len(t) for t in texts)}')\n",
        "print(f'Average # of words: {sum(map(len, texts)) / len(texts)}')"
      ],
      "execution_count": 0,
      "outputs": [
        {
          "output_type": "display_data",
          "data": {
            "image/png": "[encoded data removed]",
            "text/plain": [
              "<Figure size 432x288 with 1 Axes>"
            ]
          },
          "metadata": {
            "tags": [],
            "needs_background": "light"
          }
        },
        {
          "output_type": "stream",
          "text": [
            "Max # of words: 303\n",
            "Average # of words: 108.08092317741409\n"
          ],
          "name": "stdout"
        }
      ]
    },
    {
      "cell_type": "code",
      "metadata": {
        "id": "FPO3gudpHo1c",
        "colab_type": "code",
        "outputId": "32f98dbb-769c-4563-b415-940a23d08139",
        "colab": {
          "base_uri": "https://localhost:8080/",
          "height": 353
        }
      },
      "source": [
        "# 클래스 분포에 대한 그래프\n",
        "fig, ax = plt.subplots()\n",
        "fig.set_size_inches(w=12, h=5)\n",
        "ax.set(xlabel=\"Subject\", ylabel = \"# of papers\")\n",
        "sns.countplot(labels)\n",
        "\n",
        "#print(pd.Index(labels).value_counts())"
      ],
      "execution_count": 0,
      "outputs": [
        {
          "output_type": "execute_result",
          "data": {
            "text/plain": [
              "<matplotlib.axes._subplots.AxesSubplot at 0x7ff0aeeb7a58>"
            ]
          },
          "metadata": {
            "tags": []
          },
          "execution_count": 3
        },
        {
          "output_type": "display_data",
          "data": {
            "image/png": "[encoded data removed]",
            "text/plain": [
              "<Figure size 864x360 with 1 Axes>"
            ]
          },
          "metadata": {
            "tags": [],
            "needs_background": "light"
          }
        }
      ]
    },
    {
      "cell_type": "markdown",
      "metadata": {
        "id": "vhOwbY-0JeZW",
        "colab_type": "text"
      },
      "source": [
        "##Doc2Vec"
      ]
    },
    {
      "cell_type": "code",
      "metadata": {
        "id": "daLcmzThIdqi",
        "colab_type": "code",
        "colab": {}
      },
      "source": [
        "from gensim.models.doc2vec import Doc2Vec, TaggedDocument\n",
        "from gensim.test.utils import get_tmpfile\n",
        "from sklearn import utils"
      ],
      "execution_count": 0,
      "outputs": []
    },
    {
      "cell_type": "code",
      "metadata": {
        "id": "vAmCI6g2JbrT",
        "colab_type": "code",
        "colab": {}
      },
      "source": [
        "total_data = [TaggedDocument(words=t, tags=[l]) for t, l in zip(texts, labels)]\n",
        "utils.shuffle(total_data)\n",
        "train_data_num = 20700\n",
        "train_data = total_data[:train_data_num]\n",
        "test_data = total_data[train_data_num:]"
      ],
      "execution_count": 0,
      "outputs": []
    },
    {
      "cell_type": "code",
      "metadata": {
        "id": "QLqngl7fKKgS",
        "colab_type": "code",
        "colab": {}
      },
      "source": [
        "# Doc2Vec을 훈련시키고 가져오거나 로드함\n",
        "def get_d2v(tag_doc, model_path=None):\n",
        "    if model_path == None:\n",
        "        dm = 1\n",
        "        vector_size = 100\n",
        "        window = 5\n",
        "        min_count = 5\n",
        "        negative = 5\n",
        "        epochs = 10\n",
        "\n",
        "        d2v = Doc2Vec(dm=dm, vector_size=vector_size,\n",
        "                      window=window, min_count=min_count,\n",
        "                      hs=0, negative=negative, workers=os.cpu_count())\n",
        "        d2v.build_vocab([d for d in tag_doc])\n",
        "        d2v.train(tag_doc, total_examples=len(tag_doc), epochs=epochs)\n",
        "        model_path = f'model/d2v/d{dm}v{vector_size}w{window}m{min_count}n{negative}e{epochs}.d2v'\n",
        "        d2v.save(os.path.join(cwd, model_path))\n",
        "        print('Successfully train & save the model...')\n",
        "        \n",
        "    else:\n",
        "        fname = get_tmpfile(os.path.join(cwd, model_path))\n",
        "        d2v = Doc2Vec.load(fname)\n",
        "        print('Successfully load the model...')\n",
        "    \n",
        "    return d2v, model_path\n",
        "\n",
        "# Doc2Vec으로 inferred된 결과와 target 쌍을 가져옴\n",
        "def infer_from_d2v(d2v, tag_doc):\n",
        "    x, y = zip(*[(d2v.infer_vector(d.words), d.tags[0]) for d in tag_doc])\n",
        "    return np.asarray(x), np.asarray(y)"
      ],
      "execution_count": 0,
      "outputs": []
    },
    {
      "cell_type": "code",
      "metadata": {
        "id": "ekjr4qPTMyVM",
        "colab_type": "code",
        "outputId": "043d4238-da75-43cf-bb5c-20f78c40f3c1",
        "colab": {
          "base_uri": "https://localhost:8080/",
          "height": 112
        }
      },
      "source": [
        "d2v, d2v_model_path = get_d2v(train_data)\n",
        "#d2v_model_path = 'model/d2v/d1v100w5m5n5e10.d2v'\n",
        "#d2v, d2v_model_path = get_d2v(train_data, d2v_model_path)\n",
        "x_train, y_train = infer_from_d2v(d2v, train_data)\n",
        "x_test, y_test = infer_from_d2v(d2v, test_data)\n",
        "\n",
        "print(x_train.shape, y_train.shape, x_test.shape, y_test.shape)"
      ],
      "execution_count": 0,
      "outputs": [
        {
          "output_type": "stream",
          "text": [
            "/usr/local/lib/python3.6/dist-packages/smart_open/smart_open_lib.py:253: UserWarning: This function is deprecated, use smart_open.open instead. See the migration notes for details: https://github.com/RaRe-Technologies/smart_open/blob/master/README.rst#migrating-to-the-new-open-function\n",
            "  'See the migration notes for details: %s' % _MIGRATION_NOTES_URL\n"
          ],
          "name": "stderr"
        },
        {
          "output_type": "stream",
          "text": [
            "Successfully load the model...\n",
            "(20700, 100) (20700,) (6857, 100) (6857,)\n"
          ],
          "name": "stdout"
        }
      ]
    },
    {
      "cell_type": "markdown",
      "metadata": {
        "id": "wskBtje9N9CX",
        "colab_type": "text"
      },
      "source": [
        "##ML methods"
      ]
    },
    {
      "cell_type": "code",
      "metadata": {
        "id": "teQOuqEqNUbf",
        "colab_type": "code",
        "colab": {}
      },
      "source": [
        "from sklearn.linear_model import LogisticRegression\n",
        "from sklearn.neighbors import KNeighborsClassifier\n",
        "from sklearn.tree import DecisionTreeClassifier\n",
        "from sklearn.ensemble import RandomForestClassifier\n",
        "from sklearn.naive_bayes import GaussianNB\n",
        "from sklearn.svm import SVC\n",
        "from sklearn.model_selection import KFold, cross_val_score, cross_validate\n",
        "from sklearn.metrics import accuracy_score, f1_score\n",
        "k_fold = KFold(n_splits=10, shuffle=True)"
      ],
      "execution_count": 0,
      "outputs": []
    },
    {
      "cell_type": "code",
      "metadata": {
        "id": "MSREc60COWl9",
        "colab_type": "code",
        "colab": {}
      },
      "source": [
        "#clf = LogisticRegression()\n",
        "#clf = KNeighborsClassifier(n_neighbors=13)\n",
        "#clf = DecisionTreeClassifier()\n",
        "#clf = RandomForestClassifier(n_estimators=10)\n",
        "#clf = GaussianNB()\n",
        "clf = SVC()"
      ],
      "execution_count": 0,
      "outputs": []
    },
    {
      "cell_type": "code",
      "metadata": {
        "id": "r8qpjMR-OcxV",
        "colab_type": "code",
        "outputId": "a5c02cf2-64f3-4f3f-a45e-b8a60baae315",
        "colab": {
          "base_uri": "https://localhost:8080/",
          "height": 168
        }
      },
      "source": [
        "ml_method = 'SVC()'\n",
        "\n",
        "score = cross_validate(clf, x_train, y_train, cv=k_fold, n_jobs=os.cpu_count(), scoring=['accuracy', 'f1_micro', 'f1_macro'])\n",
        "result_valid = '=== Cross Validation ===\\n' + \\\n",
        "               f'Accuracy: {round(np.mean(score['test_accuracy']), 4)}, \\\n",
        "                 F1-micro: {round(np.mean(score['test_f1_micro']), 4)}, \\\n",
        "                 F1-macro: {round(np.mean(score['test_f1_macro']), 4)}\\n'\n",
        "print(result_valid)\n",
        "\n",
        "clf.fit(x_train, y_train)\n",
        "y_pred = clf.predict(x_test)\n",
        "result_test = '=== For Test Dataset ===\\n' + \\\n",
        "              f'Accuracy: {round(accuracy_score(y_test, y_pred), 4)}, \\\n",
        "                F1-micro: {round(f1_score(y_test, y_pred, average='micro'), 4)}, \\\n",
        "                F1-macro: {round(f1_score(y_test, y_pred, average='macro'), 4)}\\n'\n",
        "print(result_test)\n",
        "\n",
        "with open(os.path.join(cwd, 'result.txt'), 'a') as f:\n",
        "    f.write(d2v_model_path + '\\n' + ml_method + '\\n')\n",
        "    f.write(result_valid)\n",
        "    f.write(result_test)\n",
        "    f.write('\\n')"
      ],
      "execution_count": 0,
      "outputs": [
        {
          "output_type": "stream",
          "text": [
            "=== Cross Validation ===\n",
            "Accuracy: 0.817, F1-micro: 0.817, F1-macro: 0.6865\n",
            "\n",
            "=== For Test Dataset ===\n",
            "Accuracy: 0.645, F1-micro: 0.645, F1-macro: 0.424\n",
            "\n"
          ],
          "name": "stdout"
        },
        {
          "output_type": "execute_result",
          "data": {
            "text/plain": [
              "\"\\nwith open(os.path.join(cwd, 'result.txt'), 'a') as f:\\n    f.write(d2v_model_path + '\\n' + ml_method + '\\n')\\n    f.write(result_valid)\\n    f.write(result_test)\\n    f.write('\\n')\\n\\nresult_test = ''\\n\""
            ]
          },
          "metadata": {
            "tags": []
          },
          "execution_count": 11
        }
      ]
    },
    {
      "cell_type": "markdown",
      "metadata": {
        "id": "b9g0g7yVVCl_",
        "colab_type": "text"
      },
      "source": [
        "##DL methods"
      ]
    },
    {
      "cell_type": "code",
      "metadata": {
        "id": "pYnu8kn1VMCG",
        "colab_type": "code",
        "colab": {}
      },
      "source": [
        "# X label 3차원으로 reshape\n",
        "x_train = np.reshape(x_train, (x_train.shape[0], x_train.shape[1], 1))\n",
        "x_test = np.reshape(x_test, (x_test.shape[0], x_test.shape[1], 1))\n",
        "\n",
        "# Y label one-hot으로 변경\n",
        "y_train = np.eye(num_labels)[y_train]\n",
        "y_test = np.eye(num_labels)[y_test]"
      ],
      "execution_count": 0,
      "outputs": []
    },
    {
      "cell_type": "code",
      "metadata": {
        "id": "VR15rMnCWv34",
        "colab_type": "code",
        "outputId": "ca32f774-2e8f-4ff0-c4da-0d1e08d8351d",
        "colab": {
          "base_uri": "https://localhost:8080/",
          "height": 36
        }
      },
      "source": [
        "from keras.models import Sequential\n",
        "from keras.layers import Dense, SimpleRNN, Activation, LSTM\n",
        "from keras import optimizers\n",
        "from keras import metrics\n",
        "from keras.wrappers.scikit_learn import KerasClassifier\n",
        "from keras.callbacks import ModelCheckpoint"
      ],
      "execution_count": 0,
      "outputs": [
        {
          "output_type": "stream",
          "text": [
            "Using TensorFlow backend.\n"
          ],
          "name": "stderr"
        }
      ]
    },
    {
      "cell_type": "code",
      "metadata": {
        "id": "clGQJDLdOg7o",
        "colab_type": "code",
        "colab": {}
      },
      "source": [
        "def stacked_vanilla_rnn():\n",
        "    model = Sequential()\n",
        "    model.add(SimpleRNN(50, input_shape = (100, 1), return_sequences = True))   # return_sequences parameter has to be set True to stack\n",
        "    model.add(SimpleRNN(50, return_sequences = False))\n",
        "    model.add(Dense(num_labels))\n",
        "    model.add(Activation('softmax'))\n",
        "    \n",
        "    adam = optimizers.Adam(lr = 0.001)\n",
        "    model.compile(loss = 'categorical_crossentropy', optimizer = adam, metrics = ['accuracy'])\n",
        "    \n",
        "    return model\n",
        "\n",
        "def stacked_lstm():\n",
        "    model = Sequential()\n",
        "    model.add(LSTM(100, input_shape = (100, 1), return_sequences = True))\n",
        "    model.add(LSTM(100, return_sequences = False))\n",
        "    model.add(Dense(num_labels))\n",
        "    model.add(Activation('softmax'))\n",
        "    \n",
        "    adam = optimizers.Adam(lr = 0.001)\n",
        "    model.compile(loss = 'categorical_crossentropy', optimizer = optimizers.RMSprop(), metrics = [metrics.CategoricalAccuracy()])\n",
        "    \n",
        "    return model"
      ],
      "execution_count": 0,
      "outputs": []
    },
    {
      "cell_type": "code",
      "metadata": {
        "id": "g8ytYwZRWi4N",
        "colab_type": "code",
        "colab": {}
      },
      "source": [
        "rnn_model_path = os.path.join('weight_rnn_testing.hdf5')\n",
        "checkpoint = ModelCheckpoint(rnn_model_path,\n",
        "                             monitor='loss',\n",
        "                             verbose=1,\n",
        "                             save_best_only=True,\n",
        "                             mode='max')\n",
        "callbacks_list = [checkpoint]\n",
        "\n",
        "model = KerasClassifier(build_fn = stacked_vanilla_rnn,\n",
        "                        epochs = 3,\n",
        "                        batch_size = 50,\n",
        "                        verbose = 1,\n",
        "                        callbacks=callbacks_list)\n",
        "\n",
        "model.fit(x_train, y_train)\n",
        "\n",
        "y_pred = model.predict(x_test)\n",
        "y_test_ = np.argmax(y_test, axis=1)\n",
        "result_test = '=== For Test Dataset ===\\n' + \\\n",
        "              f'Accuracy: {round(accuracy_score(y_test_, y_pred), 4)}, \\\n",
        "                F1-micro: {round(f1_score(y_test_, y_pred, average='micro'), 4)}, \\\n",
        "                F1-macro: {round(f1_score(y_test_, y_pred, average='macro'), 4)}\\n'\n",
        "print(result_test)"
      ],
      "execution_count": 0,
      "outputs": []
    },
    {
      "cell_type": "code",
      "metadata": {
        "id": "HXM4MR3_XIcH",
        "colab_type": "code",
        "colab": {}
      },
      "source": [
        "model = KerasClassifier(build_fn = stacked_lstm,\n",
        "                        epochs = 30,\n",
        "                        batch_size = 50,\n",
        "                        verbose = 1)\n",
        "model.fit(x_train, y_train)\n",
        "y_pred = model.predict(x_test)\n",
        "y_test_ = np.argmax(y_test, axis=1)\n",
        "result_test = '=== For Test Dataset ===\\n' + \\\n",
        "              f'Accuracy: {round(accuracy_score(y_test_, y_pred), 4)}, \\\n",
        "                F1-micro: {round(f1_score(y_test_, y_pred, average='micro'), 4)}, \\\n",
        "                F1-macro: {round(f1_score(y_test_, y_pred, average='macro'), 4)}\\n'\n",
        "print(result_test)"
      ],
      "execution_count": 0,
      "outputs": []
    },
    {
      "cell_type": "markdown",
      "metadata": {
        "id": "6ai4gzhPcE6d",
        "colab_type": "text"
      },
      "source": [
        "##RMDL"
      ]
    },
    {
      "cell_type": "code",
      "metadata": {
        "id": "4SkRh_3zaq46",
        "colab_type": "code",
        "outputId": "d382ba81-bc4d-4a3f-c1dc-5f7c3302efcb",
        "colab": {
          "base_uri": "https://localhost:8080/",
          "height": 36
        }
      },
      "source": [
        "!ls"
      ],
      "execution_count": 0,
      "outputs": [
        {
          "output_type": "stream",
          "text": [
            "sample_data\n"
          ],
          "name": "stdout"
        }
      ]
    },
    {
      "cell_type": "code",
      "metadata": {
        "id": "Tb8E6cC1b7VZ",
        "colab_type": "code",
        "colab": {}
      },
      "source": [
        "!git clone --recursive https://github.com/bsjn16sw/RMDL.git\n",
        "!pip3 install -r RMDL/requirements.txt\n",
        "!mv RMDL RMDL_GIT\n",
        "!cp -r RMDL_GIT/RMDL RMDL"
      ],
      "execution_count": 0,
      "outputs": []
    },
    {
      "cell_type": "code",
      "metadata": {
        "id": "xpLkK4bzcU_C",
        "colab_type": "code",
        "colab": {}
      },
      "source": [
        "from sklearn.model_selection import train_test_split\n",
        "x_train_, x_test_, y_train_, y_test_ = train_test_split(texts, labels, test_size=0.272)\n",
        "x_train_ = [' '.join(x) for x in x_train_]\n",
        "x_test_ = [' '.join(x) for x in x_test_]\n",
        "\n",
        "x_train_ = np.asarray(x_train_)\n",
        "x_test_ = np.asarray(x_test_)\n",
        "y_train_ = np.asarray(y_train_)\n",
        "y_test_ = np.asarray(y_test_)"
      ],
      "execution_count": 0,
      "outputs": []
    },
    {
      "cell_type": "code",
      "metadata": {
        "id": "OrlEZ6qhcdn8",
        "colab_type": "code",
        "colab": {}
      },
      "source": [
        "from RMDL import RMDL_Text\n",
        "batch_size = 500\n",
        "sparse_categorical = 0\n",
        "n_epochs = [50, 5, 5]  ## DNN--RNN-CNN\n",
        "Random_Deep = [3, 0, 0]  ## DNN--RNN-CNN\n",
        "RMDL_Text.Text_Classification(x_train_, y_train_, x_test_, y_test_,\n",
        "                              batch_size=batch_size,\n",
        "                              sparse_categorical=sparse_categorical,\n",
        "                              random_deep=Random_Deep,\n",
        "                              epochs=n_epochs)"
      ],
      "execution_count": 0,
      "outputs": []
    },
    {
      "cell_type": "code",
      "metadata": {
        "id": "g4l4efpTtoTJ",
        "colab_type": "code",
        "outputId": "d4ccd449-ce86-4b21-ad9c-b2e4a31e597e",
        "colab": {
          "base_uri": "https://localhost:8080/",
          "height": 73
        }
      },
      "source": [
        "!ls"
      ],
      "execution_count": 0,
      "outputs": [
        {
          "output_type": "stream",
          "text": [
            "RMDL\t     weights_CNN_0.hdf5  weights_DNN_0.hdf5\n",
            "RMDL_GIT     weights_CNN_1.hdf5  weights_DNN_1.hdf5\n",
            "sample_data  weights_CNN_2.hdf5  weights_DNN_2.hdf5\n"
          ],
          "name": "stdout"
        }
      ]
    }
  ]
}